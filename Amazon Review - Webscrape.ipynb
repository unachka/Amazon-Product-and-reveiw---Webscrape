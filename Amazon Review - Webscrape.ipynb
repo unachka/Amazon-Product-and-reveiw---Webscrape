{
 "cells": [
  {
   "cell_type": "markdown",
   "metadata": {},
   "source": [
    "### Amazon product Review Webscape Tuturiol "
   ]
  },
  {
   "cell_type": "markdown",
   "metadata": {},
   "source": [
    "   - ASIN number \n",
    "   - Review "
   ]
  },
  {
   "cell_type": "code",
   "execution_count": 1,
   "metadata": {},
   "outputs": [],
   "source": [
    "import pandas as pd\n",
    "\n",
    "import requests \n",
    "from bs4 import BeautifulSoup"
   ]
  },
  {
   "cell_type": "code",
   "execution_count": 2,
   "metadata": {},
   "outputs": [],
   "source": [
    "search_query = \"vitamin+c+for+face\""
   ]
  },
  {
   "cell_type": "code",
   "execution_count": 3,
   "metadata": {},
   "outputs": [],
   "source": [
    "base_url = \"https://www.amazon.com/s?k=\""
   ]
  },
  {
   "cell_type": "code",
   "execution_count": 4,
   "metadata": {},
   "outputs": [
    {
     "data": {
      "text/plain": [
       "'https://www.amazon.com/s?k=vitamin+c+for+face'"
      ]
     },
     "execution_count": 4,
     "metadata": {},
     "output_type": "execute_result"
    }
   ],
   "source": [
    "url = base_url + search_query\n",
    "url"
   ]
  },
  {
   "cell_type": "code",
   "execution_count": 5,
   "metadata": {},
   "outputs": [],
   "source": [
    "header ={\"User-Agent\":\"Mozilla/5.0 (Macintosh; Intel Mac OS X 10_15_7) AppleWebKit/537.36 (KHTML, like Gecko) Chrome/87.0.4280.141 Safari/537.36\",\n",
    "         'referer':'https://www.amazon.com/s?k=vitamin+c+for+face&crid=192I0GRVMM6C&sprefix=vitaman+c%2Caps%2C479&ref=nb_sb_ss_sc_6_9'}"
   ]
  },
  {
   "cell_type": "code",
   "execution_count": 6,
   "metadata": {},
   "outputs": [],
   "source": [
    "search_response = requests.get(url, headers=header)"
   ]
  },
  {
   "cell_type": "code",
   "execution_count": 7,
   "metadata": {},
   "outputs": [
    {
     "data": {
      "text/plain": [
       "200"
      ]
     },
     "execution_count": 7,
     "metadata": {},
     "output_type": "execute_result"
    }
   ],
   "source": [
    "search_response.status_code #200 means connection is sucessful "
   ]
  },
  {
   "cell_type": "code",
   "execution_count": 8,
   "metadata": {
    "scrolled": true
   },
   "outputs": [
    {
     "data": {
      "text/plain": [
       "'<!doctype '"
      ]
     },
     "execution_count": 8,
     "metadata": {},
     "output_type": "execute_result"
    }
   ],
   "source": [
    "search_response.text[:10]"
   ]
  },
  {
   "cell_type": "code",
   "execution_count": 9,
   "metadata": {},
   "outputs": [
    {
     "data": {
      "text/plain": [
       "<RequestsCookieJar[Cookie(version=0, name='i18n-prefs', value='USD', port=None, port_specified=False, domain='.amazon.com', domain_specified=True, domain_initial_dot=True, path='/', path_specified=True, secure=False, expires=1648076363, discard=False, comment=None, comment_url=None, rest={}, rfc2109=False), Cookie(version=0, name='session-id', value='140-1436690-2331659', port=None, port_specified=False, domain='.amazon.com', domain_specified=True, domain_initial_dot=True, path='/', path_specified=True, secure=True, expires=1648076363, discard=False, comment=None, comment_url=None, rest={}, rfc2109=False), Cookie(version=0, name='session-id-time', value='2082787201l', port=None, port_specified=False, domain='.amazon.com', domain_specified=True, domain_initial_dot=True, path='/', path_specified=True, secure=True, expires=1648076363, discard=False, comment=None, comment_url=None, rest={}, rfc2109=False)]>"
      ]
     },
     "execution_count": 9,
     "metadata": {},
     "output_type": "execute_result"
    }
   ],
   "source": [
    "search_response.cookies"
   ]
  },
  {
   "cell_type": "code",
   "execution_count": 10,
   "metadata": {},
   "outputs": [],
   "source": [
    "#Function to get the content \n",
    "cookie = {}\n",
    "\n",
    "def getAmazonSearch(search_query):\n",
    "    url = \"https://www.amazon.com/s?k=\"+search_query\n",
    "    print(url)\n",
    "    page=requests.get(url, headers=header)\n",
    "    if page.status_code==200:\n",
    "        return page\n",
    "    else:\n",
    "        return \"Error\"\n"
   ]
  },
  {
   "cell_type": "code",
   "execution_count": 11,
   "metadata": {},
   "outputs": [],
   "source": [
    "#Function to get the contents of individual product pages using 'data-asin' number.\n",
    "\n",
    "def Searchasin(asin):\n",
    "    url=\"https://www.amazon.com/dp/\"+asin\n",
    "    print(url)\n",
    "    page=requests.get(url, headers=header)\n",
    "    if page.status_code==200:\n",
    "        return page\n",
    "    else:\n",
    "        return \"Error\"\n",
    "    "
   ]
  },
  {
   "cell_type": "code",
   "execution_count": 12,
   "metadata": {},
   "outputs": [],
   "source": [
    "#Function to pass on the like of see all reviews and extract\n",
    "\n",
    "def Searchreviews(review_link):\n",
    "    url=\"https://www.amazon.com\"+review_link\n",
    "    print(url)\n",
    "    page=requests.get(url, cookies=cookie, headers=header)\n",
    "    if page.status_code==200:\n",
    "        return page\n",
    "    else:\n",
    "        return \"Error\""
   ]
  },
  {
   "cell_type": "code",
   "execution_count": 13,
   "metadata": {},
   "outputs": [
    {
     "name": "stdout",
     "output_type": "stream",
     "text": [
      "https://www.amazon.com/s?k=vitamin+c+for+face\n"
     ]
    }
   ],
   "source": [
    "#First page product name extraction\n",
    "\n",
    "product_names =[]\n",
    "response = getAmazonSearch(\"vitamin+c+for+face\")\n",
    "soup = BeautifulSoup(response.content)\n",
    "\n",
    "for i in soup.findAll(\"span\",{'class': 'a-size-base-plus a-color-base a-text-normal' }):\n",
    "    product_names.append(i.text) # adding product name to the list\n",
    "\n",
    "    "
   ]
  },
  {
   "cell_type": "code",
   "execution_count": 14,
   "metadata": {
    "scrolled": false
   },
   "outputs": [
    {
     "data": {
      "text/plain": [
       "['TruSkin Vitamin C Serum for Face with Hyaluronic Acid, Vitamin E, Witch Hazel, 1 fl oz',\n",
       " 'CeraVe Vitamin C Serum with Hyaluronic Acid | Skin Brightening Serum for Face with 10% Pure Vitamin C | Fragrance Free | 1 Fl. Oz',\n",
       " 'Vitamin C Serum for Face - Anti Aging Facial Serum - 1oz',\n",
       " 'TruSkin Vitamin C Serum for Face with Hyaluronic Acid, Vitamin E, Witch Hazel, 1 fl oz',\n",
       " 'NatureBell Hyaluronic Acid Supplements, 250mg Hyaluronic Acid with 25mg Vitamin C Per Serving, 200 Capsules, Supports Skin Hydration, Joints Lubrication, Antioxidant and Immune System, Non-GMO',\n",
       " 'Cetaphil Hydrating Eye Gel Cream, 0.5 Oz',\n",
       " 'Collagen Lifting, Plumping, & Firming Serum Anti-Aging Collagen Serum for Face Improves Elasticity, Evens Skin Tone, Plumps, & Lifts Sagging Skin Non-Greasy Wrinkle Serum By Elastalift (1.7oz)',\n",
       " 'Clinique Fresh Pressed Daily Booster With Pure Vitamin C 10% 0.29oz/8.5ml',\n",
       " 'TruSkin Vitamin C-Plus Super Serum, Anti Aging Anti-Wrinkle Facial Serum with Niacinamide, Retinol, Hyaluronic Acid, and Salicylic Acid, 1 oz',\n",
       " 'Anthony High Performance Vitamin C Facial Serum, 1 Fl Oz, Contains Polypeptides, Salicylic Acid, Licorice Root Extract, Anti-Aging, Retexturizes, Rejuvenanes, and Brightens Skin']"
      ]
     },
     "execution_count": 14,
     "metadata": {},
     "output_type": "execute_result"
    }
   ],
   "source": [
    "product_names[:10]"
   ]
  },
  {
   "cell_type": "code",
   "execution_count": 15,
   "metadata": {},
   "outputs": [
    {
     "data": {
      "text/plain": [
       "57"
      ]
     },
     "execution_count": 15,
     "metadata": {},
     "output_type": "execute_result"
    }
   ],
   "source": [
    "len(product_names)"
   ]
  },
  {
   "cell_type": "code",
   "execution_count": 16,
   "metadata": {},
   "outputs": [
    {
     "name": "stdout",
     "output_type": "stream",
     "text": [
      "https://www.amazon.com/s?k=vitamin+c+for+face\n"
     ]
    }
   ],
   "source": [
    "# Extract Asin numbers\n",
    "\n",
    "data_asin = []\n",
    "\n",
    "response = getAmazonSearch(\"vitamin+c+for+face\")\n",
    "soup=BeautifulSoup(response.content)\n",
    "for i in soup.findAll(\"div\",{'class': \"sg-col-4-of-12 s-result-item s-asin sg-col-4-of-16 AdHolder sg-col sg-col-4-of-20\" }):\n",
    "    data_asin.append(i['data-asin'])\n",
    "    "
   ]
  },
  {
   "cell_type": "code",
   "execution_count": 17,
   "metadata": {},
   "outputs": [
    {
     "data": {
      "text/plain": [
       "['B01M4MCUAF',\n",
       " 'B08DCD5MRW',\n",
       " 'B01KMSTCWG',\n",
       " 'B07K8QLGHN',\n",
       " 'B00S2G786S',\n",
       " 'B088C7S4VL',\n",
       " 'B088C8S577',\n",
       " 'B014PGEEO2',\n",
       " 'B071YM4LFG',\n",
       " 'B07X37B5V6',\n",
       " 'B07PNFRT7X',\n",
       " 'B07GS9XZNS']"
      ]
     },
     "execution_count": 17,
     "metadata": {},
     "output_type": "execute_result"
    }
   ],
   "source": [
    "data_asin"
   ]
  },
  {
   "cell_type": "code",
   "execution_count": 18,
   "metadata": {},
   "outputs": [
    {
     "name": "stdout",
     "output_type": "stream",
     "text": [
      "https://www.amazon.com/dp/B01M4MCUAF\n",
      "https://www.amazon.com/dp/B08DCD5MRW\n",
      "https://www.amazon.com/dp/B01KMSTCWG\n",
      "https://www.amazon.com/dp/B07K8QLGHN\n",
      "https://www.amazon.com/dp/B00S2G786S\n",
      "https://www.amazon.com/dp/B088C7S4VL\n",
      "https://www.amazon.com/dp/B088C8S577\n",
      "https://www.amazon.com/dp/B014PGEEO2\n",
      "https://www.amazon.com/dp/B071YM4LFG\n",
      "https://www.amazon.com/dp/B07X37B5V6\n",
      "https://www.amazon.com/dp/B07PNFRT7X\n",
      "https://www.amazon.com/dp/B07GS9XZNS\n"
     ]
    }
   ],
   "source": [
    "# links of all product with ASIN numbers \n",
    "\n",
    "link=[]\n",
    "\n",
    "for i in range(len(data_asin)):\n",
    "    response = Searchasin(data_asin[i])\n",
    "    soup=BeautifulSoup(response.content)\n",
    "    for i in soup.findAll(\"a\",{'data-hook':\"see-all-reviews-link-foot\"}):\n",
    "        link.append(i['href'])"
   ]
  },
  {
   "cell_type": "code",
   "execution_count": 19,
   "metadata": {},
   "outputs": [
    {
     "data": {
      "text/plain": [
       "['/TruSkin-Naturals-Vitamin-Topical-Hyaluronic/product-reviews/B01M4MCUAF/ref=cm_cr_dp_d_show_all_btm?ie=UTF8&reviewerType=all_reviews',\n",
       " '/TruSkin-Night-2-pack-Vitamin-Retinol/product-reviews/B08DCD5MRW/ref=cm_cr_dp_d_show_all_btm?ie=UTF8&reviewerType=all_reviews',\n",
       " '/TruSkin-Naturals-Anti-Wrinkle-Niacinamide-Hyaluronic/product-reviews/B01KMSTCWG/ref=cm_cr_dp_d_show_all_btm?ie=UTF8&reviewerType=all_reviews',\n",
       " '/TruSkin-Naturals-Anti-Wrinkle-Niacinamide-Hyaluronic/product-reviews/B01KMSTCWG/ref=cm_cr_dp_d_show_all_btm?ie=UTF8&reviewerType=all_reviews',\n",
       " '/Nutrivein-Liposomal-Vitamin-1400mg-Antioxidant/product-reviews/B07K8QLGHN/ref=cm_cr_dp_d_show_all_btm?ie=UTF8&reviewerType=all_reviews',\n",
       " '/ToLB-Vitamin-Serum-Face-Hyaluronic/product-reviews/B00S2G786S/ref=cm_cr_dp_d_show_all_btm?ie=UTF8&reviewerType=all_reviews',\n",
       " '/ToLB-Vitamin-Serum-Face-Hyaluronic/product-reviews/B00S2G786S/ref=cm_cr_dp_d_show_all_btm?ie=UTF8&reviewerType=all_reviews',\n",
       " '/RoC-Multi-Correxion-Revive-Vitamin/product-reviews/B088C7S4VL/ref=cm_cr_dp_d_show_all_btm?ie=UTF8&reviewerType=all_reviews',\n",
       " '/RoC-Correxion-Revive-Vitamin-Moisturizer/product-reviews/B088C8S577/ref=cm_cr_dp_d_show_all_btm?ie=UTF8&reviewerType=all_reviews',\n",
       " '/ToLB-Anti-Aging-Serum-Combo/product-reviews/B014PGEEO2/ref=cm_cr_dp_d_show_all_btm?ie=UTF8&reviewerType=all_reviews']"
      ]
     },
     "execution_count": 19,
     "metadata": {},
     "output_type": "execute_result"
    }
   ],
   "source": [
    "link[:10]"
   ]
  },
  {
   "cell_type": "code",
   "execution_count": 20,
   "metadata": {},
   "outputs": [
    {
     "name": "stdout",
     "output_type": "stream",
     "text": [
      "/TruSkin-Naturals-Vitamin-Topical-Hyaluronic/product-reviews/B01M4MCUAF/ref=cm_cr_dp_d_show_all_btm?ie=UTF8&reviewerType=all_reviews\n",
      "/TruSkin-Night-2-pack-Vitamin-Retinol/product-reviews/B08DCD5MRW/ref=cm_cr_dp_d_show_all_btm?ie=UTF8&reviewerType=all_reviews\n",
      "/TruSkin-Naturals-Anti-Wrinkle-Niacinamide-Hyaluronic/product-reviews/B01KMSTCWG/ref=cm_cr_dp_d_show_all_btm?ie=UTF8&reviewerType=all_reviews\n",
      "/TruSkin-Naturals-Anti-Wrinkle-Niacinamide-Hyaluronic/product-reviews/B01KMSTCWG/ref=cm_cr_dp_d_show_all_btm?ie=UTF8&reviewerType=all_reviews\n",
      "/Nutrivein-Liposomal-Vitamin-1400mg-Antioxidant/product-reviews/B07K8QLGHN/ref=cm_cr_dp_d_show_all_btm?ie=UTF8&reviewerType=all_reviews\n",
      "/ToLB-Vitamin-Serum-Face-Hyaluronic/product-reviews/B00S2G786S/ref=cm_cr_dp_d_show_all_btm?ie=UTF8&reviewerType=all_reviews\n",
      "/ToLB-Vitamin-Serum-Face-Hyaluronic/product-reviews/B00S2G786S/ref=cm_cr_dp_d_show_all_btm?ie=UTF8&reviewerType=all_reviews\n",
      "/RoC-Multi-Correxion-Revive-Vitamin/product-reviews/B088C7S4VL/ref=cm_cr_dp_d_show_all_btm?ie=UTF8&reviewerType=all_reviews\n",
      "/RoC-Correxion-Revive-Vitamin-Moisturizer/product-reviews/B088C8S577/ref=cm_cr_dp_d_show_all_btm?ie=UTF8&reviewerType=all_reviews\n",
      "/ToLB-Anti-Aging-Serum-Combo/product-reviews/B014PGEEO2/ref=cm_cr_dp_d_show_all_btm?ie=UTF8&reviewerType=all_reviews\n",
      "/ToLB-Anti-Aging-Serum-Combo/product-reviews/B014PGEEO2/ref=cm_cr_dp_d_show_all_btm?ie=UTF8&reviewerType=all_reviews\n",
      "/Eve-Moisturizer-Powerhouse-Tightening-Moisturizing/product-reviews/B071YM4LFG/ref=cm_cr_dp_d_show_all_btm?ie=UTF8&reviewerType=all_reviews\n",
      "/LILY-SADO-Vitamin-Serum-Face/product-reviews/B07X37B5V6/ref=cm_cr_dp_d_show_all_btm?ie=UTF8&reviewerType=all_reviews\n",
      "/Energize-Vitamin-Serum-Face-Eyes/product-reviews/B07PNFRT7X/ref=cm_cr_dp_d_show_all_btm?ie=UTF8&reviewerType=all_reviews\n",
      "/Energize-Vitamin-Serum-Face-Eyes/product-reviews/B07PNFRT7X/ref=cm_cr_dp_d_show_all_btm?ie=UTF8&reviewerType=all_reviews\n",
      "/Vichy-Liftactiv-Peptide-C-Moisturizer-1-69/product-reviews/B07GS9XZNS/ref=cm_cr_dp_d_show_all_btm?ie=UTF8&reviewerType=all_reviews\n",
      "/Vichy-Liftactiv-Peptide-C-Moisturizer-1-69/product-reviews/B07GS9XZNS/ref=cm_cr_dp_d_show_all_btm?ie=UTF8&reviewerType=all_reviews\n"
     ]
    }
   ],
   "source": [
    "#Now we have the all reveiw links. We can extract the reviews in any page number\n",
    "\n",
    "for j in range(len(link)):\n",
    "    print(link[j])"
   ]
  },
  {
   "cell_type": "code",
   "execution_count": 21,
   "metadata": {
    "scrolled": true
   },
   "outputs": [
    {
     "name": "stdout",
     "output_type": "stream",
     "text": [
      "https://www.amazon.com/TruSkin-Naturals-Vitamin-Topical-Hyaluronic/product-reviews/B01M4MCUAF/ref=cm_cr_dp_d_show_all_btm?ie=UTF8&reviewerType=all_reviews&pageNumber=0\n",
      "https://www.amazon.com/TruSkin-Naturals-Vitamin-Topical-Hyaluronic/product-reviews/B01M4MCUAF/ref=cm_cr_dp_d_show_all_btm?ie=UTF8&reviewerType=all_reviews&pageNumber=1\n",
      "https://www.amazon.com/TruSkin-Naturals-Vitamin-Topical-Hyaluronic/product-reviews/B01M4MCUAF/ref=cm_cr_dp_d_show_all_btm?ie=UTF8&reviewerType=all_reviews&pageNumber=2\n",
      "https://www.amazon.com/TruSkin-Naturals-Vitamin-Topical-Hyaluronic/product-reviews/B01M4MCUAF/ref=cm_cr_dp_d_show_all_btm?ie=UTF8&reviewerType=all_reviews&pageNumber=3\n",
      "https://www.amazon.com/TruSkin-Naturals-Vitamin-Topical-Hyaluronic/product-reviews/B01M4MCUAF/ref=cm_cr_dp_d_show_all_btm?ie=UTF8&reviewerType=all_reviews&pageNumber=4\n",
      "https://www.amazon.com/TruSkin-Naturals-Vitamin-Topical-Hyaluronic/product-reviews/B01M4MCUAF/ref=cm_cr_dp_d_show_all_btm?ie=UTF8&reviewerType=all_reviews&pageNumber=5\n",
      "https://www.amazon.com/TruSkin-Naturals-Vitamin-Topical-Hyaluronic/product-reviews/B01M4MCUAF/ref=cm_cr_dp_d_show_all_btm?ie=UTF8&reviewerType=all_reviews&pageNumber=6\n",
      "https://www.amazon.com/TruSkin-Naturals-Vitamin-Topical-Hyaluronic/product-reviews/B01M4MCUAF/ref=cm_cr_dp_d_show_all_btm?ie=UTF8&reviewerType=all_reviews&pageNumber=7\n",
      "https://www.amazon.com/TruSkin-Naturals-Vitamin-Topical-Hyaluronic/product-reviews/B01M4MCUAF/ref=cm_cr_dp_d_show_all_btm?ie=UTF8&reviewerType=all_reviews&pageNumber=8\n",
      "https://www.amazon.com/TruSkin-Naturals-Vitamin-Topical-Hyaluronic/product-reviews/B01M4MCUAF/ref=cm_cr_dp_d_show_all_btm?ie=UTF8&reviewerType=all_reviews&pageNumber=9\n",
      "https://www.amazon.com/TruSkin-Night-2-pack-Vitamin-Retinol/product-reviews/B08DCD5MRW/ref=cm_cr_dp_d_show_all_btm?ie=UTF8&reviewerType=all_reviews&pageNumber=0\n",
      "https://www.amazon.com/TruSkin-Night-2-pack-Vitamin-Retinol/product-reviews/B08DCD5MRW/ref=cm_cr_dp_d_show_all_btm?ie=UTF8&reviewerType=all_reviews&pageNumber=1\n",
      "https://www.amazon.com/TruSkin-Night-2-pack-Vitamin-Retinol/product-reviews/B08DCD5MRW/ref=cm_cr_dp_d_show_all_btm?ie=UTF8&reviewerType=all_reviews&pageNumber=2\n",
      "https://www.amazon.com/TruSkin-Night-2-pack-Vitamin-Retinol/product-reviews/B08DCD5MRW/ref=cm_cr_dp_d_show_all_btm?ie=UTF8&reviewerType=all_reviews&pageNumber=3\n",
      "https://www.amazon.com/TruSkin-Night-2-pack-Vitamin-Retinol/product-reviews/B08DCD5MRW/ref=cm_cr_dp_d_show_all_btm?ie=UTF8&reviewerType=all_reviews&pageNumber=4\n",
      "https://www.amazon.com/TruSkin-Night-2-pack-Vitamin-Retinol/product-reviews/B08DCD5MRW/ref=cm_cr_dp_d_show_all_btm?ie=UTF8&reviewerType=all_reviews&pageNumber=5\n",
      "https://www.amazon.com/TruSkin-Night-2-pack-Vitamin-Retinol/product-reviews/B08DCD5MRW/ref=cm_cr_dp_d_show_all_btm?ie=UTF8&reviewerType=all_reviews&pageNumber=6\n",
      "https://www.amazon.com/TruSkin-Night-2-pack-Vitamin-Retinol/product-reviews/B08DCD5MRW/ref=cm_cr_dp_d_show_all_btm?ie=UTF8&reviewerType=all_reviews&pageNumber=7\n",
      "https://www.amazon.com/TruSkin-Night-2-pack-Vitamin-Retinol/product-reviews/B08DCD5MRW/ref=cm_cr_dp_d_show_all_btm?ie=UTF8&reviewerType=all_reviews&pageNumber=8\n",
      "https://www.amazon.com/TruSkin-Night-2-pack-Vitamin-Retinol/product-reviews/B08DCD5MRW/ref=cm_cr_dp_d_show_all_btm?ie=UTF8&reviewerType=all_reviews&pageNumber=9\n",
      "https://www.amazon.com/TruSkin-Naturals-Anti-Wrinkle-Niacinamide-Hyaluronic/product-reviews/B01KMSTCWG/ref=cm_cr_dp_d_show_all_btm?ie=UTF8&reviewerType=all_reviews&pageNumber=0\n",
      "https://www.amazon.com/TruSkin-Naturals-Anti-Wrinkle-Niacinamide-Hyaluronic/product-reviews/B01KMSTCWG/ref=cm_cr_dp_d_show_all_btm?ie=UTF8&reviewerType=all_reviews&pageNumber=1\n",
      "https://www.amazon.com/TruSkin-Naturals-Anti-Wrinkle-Niacinamide-Hyaluronic/product-reviews/B01KMSTCWG/ref=cm_cr_dp_d_show_all_btm?ie=UTF8&reviewerType=all_reviews&pageNumber=2\n",
      "https://www.amazon.com/TruSkin-Naturals-Anti-Wrinkle-Niacinamide-Hyaluronic/product-reviews/B01KMSTCWG/ref=cm_cr_dp_d_show_all_btm?ie=UTF8&reviewerType=all_reviews&pageNumber=3\n",
      "https://www.amazon.com/TruSkin-Naturals-Anti-Wrinkle-Niacinamide-Hyaluronic/product-reviews/B01KMSTCWG/ref=cm_cr_dp_d_show_all_btm?ie=UTF8&reviewerType=all_reviews&pageNumber=4\n",
      "https://www.amazon.com/TruSkin-Naturals-Anti-Wrinkle-Niacinamide-Hyaluronic/product-reviews/B01KMSTCWG/ref=cm_cr_dp_d_show_all_btm?ie=UTF8&reviewerType=all_reviews&pageNumber=5\n",
      "https://www.amazon.com/TruSkin-Naturals-Anti-Wrinkle-Niacinamide-Hyaluronic/product-reviews/B01KMSTCWG/ref=cm_cr_dp_d_show_all_btm?ie=UTF8&reviewerType=all_reviews&pageNumber=6\n",
      "https://www.amazon.com/TruSkin-Naturals-Anti-Wrinkle-Niacinamide-Hyaluronic/product-reviews/B01KMSTCWG/ref=cm_cr_dp_d_show_all_btm?ie=UTF8&reviewerType=all_reviews&pageNumber=7\n",
      "https://www.amazon.com/TruSkin-Naturals-Anti-Wrinkle-Niacinamide-Hyaluronic/product-reviews/B01KMSTCWG/ref=cm_cr_dp_d_show_all_btm?ie=UTF8&reviewerType=all_reviews&pageNumber=8\n",
      "https://www.amazon.com/TruSkin-Naturals-Anti-Wrinkle-Niacinamide-Hyaluronic/product-reviews/B01KMSTCWG/ref=cm_cr_dp_d_show_all_btm?ie=UTF8&reviewerType=all_reviews&pageNumber=9\n",
      "https://www.amazon.com/TruSkin-Naturals-Anti-Wrinkle-Niacinamide-Hyaluronic/product-reviews/B01KMSTCWG/ref=cm_cr_dp_d_show_all_btm?ie=UTF8&reviewerType=all_reviews&pageNumber=0\n",
      "https://www.amazon.com/TruSkin-Naturals-Anti-Wrinkle-Niacinamide-Hyaluronic/product-reviews/B01KMSTCWG/ref=cm_cr_dp_d_show_all_btm?ie=UTF8&reviewerType=all_reviews&pageNumber=1\n",
      "https://www.amazon.com/TruSkin-Naturals-Anti-Wrinkle-Niacinamide-Hyaluronic/product-reviews/B01KMSTCWG/ref=cm_cr_dp_d_show_all_btm?ie=UTF8&reviewerType=all_reviews&pageNumber=2\n",
      "https://www.amazon.com/TruSkin-Naturals-Anti-Wrinkle-Niacinamide-Hyaluronic/product-reviews/B01KMSTCWG/ref=cm_cr_dp_d_show_all_btm?ie=UTF8&reviewerType=all_reviews&pageNumber=3\n",
      "https://www.amazon.com/TruSkin-Naturals-Anti-Wrinkle-Niacinamide-Hyaluronic/product-reviews/B01KMSTCWG/ref=cm_cr_dp_d_show_all_btm?ie=UTF8&reviewerType=all_reviews&pageNumber=4\n",
      "https://www.amazon.com/TruSkin-Naturals-Anti-Wrinkle-Niacinamide-Hyaluronic/product-reviews/B01KMSTCWG/ref=cm_cr_dp_d_show_all_btm?ie=UTF8&reviewerType=all_reviews&pageNumber=5\n",
      "https://www.amazon.com/TruSkin-Naturals-Anti-Wrinkle-Niacinamide-Hyaluronic/product-reviews/B01KMSTCWG/ref=cm_cr_dp_d_show_all_btm?ie=UTF8&reviewerType=all_reviews&pageNumber=6\n",
      "https://www.amazon.com/TruSkin-Naturals-Anti-Wrinkle-Niacinamide-Hyaluronic/product-reviews/B01KMSTCWG/ref=cm_cr_dp_d_show_all_btm?ie=UTF8&reviewerType=all_reviews&pageNumber=7\n",
      "https://www.amazon.com/TruSkin-Naturals-Anti-Wrinkle-Niacinamide-Hyaluronic/product-reviews/B01KMSTCWG/ref=cm_cr_dp_d_show_all_btm?ie=UTF8&reviewerType=all_reviews&pageNumber=8\n",
      "https://www.amazon.com/TruSkin-Naturals-Anti-Wrinkle-Niacinamide-Hyaluronic/product-reviews/B01KMSTCWG/ref=cm_cr_dp_d_show_all_btm?ie=UTF8&reviewerType=all_reviews&pageNumber=9\n",
      "https://www.amazon.com/Nutrivein-Liposomal-Vitamin-1400mg-Antioxidant/product-reviews/B07K8QLGHN/ref=cm_cr_dp_d_show_all_btm?ie=UTF8&reviewerType=all_reviews&pageNumber=0\n",
      "https://www.amazon.com/Nutrivein-Liposomal-Vitamin-1400mg-Antioxidant/product-reviews/B07K8QLGHN/ref=cm_cr_dp_d_show_all_btm?ie=UTF8&reviewerType=all_reviews&pageNumber=1\n",
      "https://www.amazon.com/Nutrivein-Liposomal-Vitamin-1400mg-Antioxidant/product-reviews/B07K8QLGHN/ref=cm_cr_dp_d_show_all_btm?ie=UTF8&reviewerType=all_reviews&pageNumber=2\n",
      "https://www.amazon.com/Nutrivein-Liposomal-Vitamin-1400mg-Antioxidant/product-reviews/B07K8QLGHN/ref=cm_cr_dp_d_show_all_btm?ie=UTF8&reviewerType=all_reviews&pageNumber=3\n",
      "https://www.amazon.com/Nutrivein-Liposomal-Vitamin-1400mg-Antioxidant/product-reviews/B07K8QLGHN/ref=cm_cr_dp_d_show_all_btm?ie=UTF8&reviewerType=all_reviews&pageNumber=4\n",
      "https://www.amazon.com/Nutrivein-Liposomal-Vitamin-1400mg-Antioxidant/product-reviews/B07K8QLGHN/ref=cm_cr_dp_d_show_all_btm?ie=UTF8&reviewerType=all_reviews&pageNumber=5\n",
      "https://www.amazon.com/Nutrivein-Liposomal-Vitamin-1400mg-Antioxidant/product-reviews/B07K8QLGHN/ref=cm_cr_dp_d_show_all_btm?ie=UTF8&reviewerType=all_reviews&pageNumber=6\n",
      "https://www.amazon.com/Nutrivein-Liposomal-Vitamin-1400mg-Antioxidant/product-reviews/B07K8QLGHN/ref=cm_cr_dp_d_show_all_btm?ie=UTF8&reviewerType=all_reviews&pageNumber=7\n"
     ]
    },
    {
     "name": "stdout",
     "output_type": "stream",
     "text": [
      "https://www.amazon.com/Nutrivein-Liposomal-Vitamin-1400mg-Antioxidant/product-reviews/B07K8QLGHN/ref=cm_cr_dp_d_show_all_btm?ie=UTF8&reviewerType=all_reviews&pageNumber=8\n",
      "https://www.amazon.com/Nutrivein-Liposomal-Vitamin-1400mg-Antioxidant/product-reviews/B07K8QLGHN/ref=cm_cr_dp_d_show_all_btm?ie=UTF8&reviewerType=all_reviews&pageNumber=9\n",
      "https://www.amazon.com/ToLB-Vitamin-Serum-Face-Hyaluronic/product-reviews/B00S2G786S/ref=cm_cr_dp_d_show_all_btm?ie=UTF8&reviewerType=all_reviews&pageNumber=0\n",
      "https://www.amazon.com/ToLB-Vitamin-Serum-Face-Hyaluronic/product-reviews/B00S2G786S/ref=cm_cr_dp_d_show_all_btm?ie=UTF8&reviewerType=all_reviews&pageNumber=1\n",
      "https://www.amazon.com/ToLB-Vitamin-Serum-Face-Hyaluronic/product-reviews/B00S2G786S/ref=cm_cr_dp_d_show_all_btm?ie=UTF8&reviewerType=all_reviews&pageNumber=2\n",
      "https://www.amazon.com/ToLB-Vitamin-Serum-Face-Hyaluronic/product-reviews/B00S2G786S/ref=cm_cr_dp_d_show_all_btm?ie=UTF8&reviewerType=all_reviews&pageNumber=3\n",
      "https://www.amazon.com/ToLB-Vitamin-Serum-Face-Hyaluronic/product-reviews/B00S2G786S/ref=cm_cr_dp_d_show_all_btm?ie=UTF8&reviewerType=all_reviews&pageNumber=4\n",
      "https://www.amazon.com/ToLB-Vitamin-Serum-Face-Hyaluronic/product-reviews/B00S2G786S/ref=cm_cr_dp_d_show_all_btm?ie=UTF8&reviewerType=all_reviews&pageNumber=5\n",
      "https://www.amazon.com/ToLB-Vitamin-Serum-Face-Hyaluronic/product-reviews/B00S2G786S/ref=cm_cr_dp_d_show_all_btm?ie=UTF8&reviewerType=all_reviews&pageNumber=6\n",
      "https://www.amazon.com/ToLB-Vitamin-Serum-Face-Hyaluronic/product-reviews/B00S2G786S/ref=cm_cr_dp_d_show_all_btm?ie=UTF8&reviewerType=all_reviews&pageNumber=7\n",
      "https://www.amazon.com/ToLB-Vitamin-Serum-Face-Hyaluronic/product-reviews/B00S2G786S/ref=cm_cr_dp_d_show_all_btm?ie=UTF8&reviewerType=all_reviews&pageNumber=8\n",
      "https://www.amazon.com/ToLB-Vitamin-Serum-Face-Hyaluronic/product-reviews/B00S2G786S/ref=cm_cr_dp_d_show_all_btm?ie=UTF8&reviewerType=all_reviews&pageNumber=9\n",
      "https://www.amazon.com/ToLB-Vitamin-Serum-Face-Hyaluronic/product-reviews/B00S2G786S/ref=cm_cr_dp_d_show_all_btm?ie=UTF8&reviewerType=all_reviews&pageNumber=0\n",
      "https://www.amazon.com/ToLB-Vitamin-Serum-Face-Hyaluronic/product-reviews/B00S2G786S/ref=cm_cr_dp_d_show_all_btm?ie=UTF8&reviewerType=all_reviews&pageNumber=1\n",
      "https://www.amazon.com/ToLB-Vitamin-Serum-Face-Hyaluronic/product-reviews/B00S2G786S/ref=cm_cr_dp_d_show_all_btm?ie=UTF8&reviewerType=all_reviews&pageNumber=2\n",
      "https://www.amazon.com/ToLB-Vitamin-Serum-Face-Hyaluronic/product-reviews/B00S2G786S/ref=cm_cr_dp_d_show_all_btm?ie=UTF8&reviewerType=all_reviews&pageNumber=3\n",
      "https://www.amazon.com/ToLB-Vitamin-Serum-Face-Hyaluronic/product-reviews/B00S2G786S/ref=cm_cr_dp_d_show_all_btm?ie=UTF8&reviewerType=all_reviews&pageNumber=4\n",
      "https://www.amazon.com/ToLB-Vitamin-Serum-Face-Hyaluronic/product-reviews/B00S2G786S/ref=cm_cr_dp_d_show_all_btm?ie=UTF8&reviewerType=all_reviews&pageNumber=5\n",
      "https://www.amazon.com/ToLB-Vitamin-Serum-Face-Hyaluronic/product-reviews/B00S2G786S/ref=cm_cr_dp_d_show_all_btm?ie=UTF8&reviewerType=all_reviews&pageNumber=6\n",
      "https://www.amazon.com/ToLB-Vitamin-Serum-Face-Hyaluronic/product-reviews/B00S2G786S/ref=cm_cr_dp_d_show_all_btm?ie=UTF8&reviewerType=all_reviews&pageNumber=7\n",
      "https://www.amazon.com/ToLB-Vitamin-Serum-Face-Hyaluronic/product-reviews/B00S2G786S/ref=cm_cr_dp_d_show_all_btm?ie=UTF8&reviewerType=all_reviews&pageNumber=8\n",
      "https://www.amazon.com/ToLB-Vitamin-Serum-Face-Hyaluronic/product-reviews/B00S2G786S/ref=cm_cr_dp_d_show_all_btm?ie=UTF8&reviewerType=all_reviews&pageNumber=9\n",
      "https://www.amazon.com/RoC-Multi-Correxion-Revive-Vitamin/product-reviews/B088C7S4VL/ref=cm_cr_dp_d_show_all_btm?ie=UTF8&reviewerType=all_reviews&pageNumber=0\n",
      "https://www.amazon.com/RoC-Multi-Correxion-Revive-Vitamin/product-reviews/B088C7S4VL/ref=cm_cr_dp_d_show_all_btm?ie=UTF8&reviewerType=all_reviews&pageNumber=1\n",
      "https://www.amazon.com/RoC-Multi-Correxion-Revive-Vitamin/product-reviews/B088C7S4VL/ref=cm_cr_dp_d_show_all_btm?ie=UTF8&reviewerType=all_reviews&pageNumber=2\n",
      "https://www.amazon.com/RoC-Multi-Correxion-Revive-Vitamin/product-reviews/B088C7S4VL/ref=cm_cr_dp_d_show_all_btm?ie=UTF8&reviewerType=all_reviews&pageNumber=3\n",
      "https://www.amazon.com/RoC-Multi-Correxion-Revive-Vitamin/product-reviews/B088C7S4VL/ref=cm_cr_dp_d_show_all_btm?ie=UTF8&reviewerType=all_reviews&pageNumber=4\n",
      "https://www.amazon.com/RoC-Multi-Correxion-Revive-Vitamin/product-reviews/B088C7S4VL/ref=cm_cr_dp_d_show_all_btm?ie=UTF8&reviewerType=all_reviews&pageNumber=5\n",
      "https://www.amazon.com/RoC-Multi-Correxion-Revive-Vitamin/product-reviews/B088C7S4VL/ref=cm_cr_dp_d_show_all_btm?ie=UTF8&reviewerType=all_reviews&pageNumber=6\n",
      "https://www.amazon.com/RoC-Multi-Correxion-Revive-Vitamin/product-reviews/B088C7S4VL/ref=cm_cr_dp_d_show_all_btm?ie=UTF8&reviewerType=all_reviews&pageNumber=7\n",
      "https://www.amazon.com/RoC-Multi-Correxion-Revive-Vitamin/product-reviews/B088C7S4VL/ref=cm_cr_dp_d_show_all_btm?ie=UTF8&reviewerType=all_reviews&pageNumber=8\n",
      "https://www.amazon.com/RoC-Multi-Correxion-Revive-Vitamin/product-reviews/B088C7S4VL/ref=cm_cr_dp_d_show_all_btm?ie=UTF8&reviewerType=all_reviews&pageNumber=9\n",
      "https://www.amazon.com/RoC-Correxion-Revive-Vitamin-Moisturizer/product-reviews/B088C8S577/ref=cm_cr_dp_d_show_all_btm?ie=UTF8&reviewerType=all_reviews&pageNumber=0\n",
      "https://www.amazon.com/RoC-Correxion-Revive-Vitamin-Moisturizer/product-reviews/B088C8S577/ref=cm_cr_dp_d_show_all_btm?ie=UTF8&reviewerType=all_reviews&pageNumber=1\n",
      "https://www.amazon.com/RoC-Correxion-Revive-Vitamin-Moisturizer/product-reviews/B088C8S577/ref=cm_cr_dp_d_show_all_btm?ie=UTF8&reviewerType=all_reviews&pageNumber=2\n",
      "https://www.amazon.com/RoC-Correxion-Revive-Vitamin-Moisturizer/product-reviews/B088C8S577/ref=cm_cr_dp_d_show_all_btm?ie=UTF8&reviewerType=all_reviews&pageNumber=3\n",
      "https://www.amazon.com/RoC-Correxion-Revive-Vitamin-Moisturizer/product-reviews/B088C8S577/ref=cm_cr_dp_d_show_all_btm?ie=UTF8&reviewerType=all_reviews&pageNumber=4\n",
      "https://www.amazon.com/RoC-Correxion-Revive-Vitamin-Moisturizer/product-reviews/B088C8S577/ref=cm_cr_dp_d_show_all_btm?ie=UTF8&reviewerType=all_reviews&pageNumber=5\n",
      "https://www.amazon.com/RoC-Correxion-Revive-Vitamin-Moisturizer/product-reviews/B088C8S577/ref=cm_cr_dp_d_show_all_btm?ie=UTF8&reviewerType=all_reviews&pageNumber=6\n",
      "https://www.amazon.com/RoC-Correxion-Revive-Vitamin-Moisturizer/product-reviews/B088C8S577/ref=cm_cr_dp_d_show_all_btm?ie=UTF8&reviewerType=all_reviews&pageNumber=7\n",
      "https://www.amazon.com/RoC-Correxion-Revive-Vitamin-Moisturizer/product-reviews/B088C8S577/ref=cm_cr_dp_d_show_all_btm?ie=UTF8&reviewerType=all_reviews&pageNumber=8\n",
      "https://www.amazon.com/RoC-Correxion-Revive-Vitamin-Moisturizer/product-reviews/B088C8S577/ref=cm_cr_dp_d_show_all_btm?ie=UTF8&reviewerType=all_reviews&pageNumber=9\n",
      "https://www.amazon.com/ToLB-Anti-Aging-Serum-Combo/product-reviews/B014PGEEO2/ref=cm_cr_dp_d_show_all_btm?ie=UTF8&reviewerType=all_reviews&pageNumber=0\n",
      "https://www.amazon.com/ToLB-Anti-Aging-Serum-Combo/product-reviews/B014PGEEO2/ref=cm_cr_dp_d_show_all_btm?ie=UTF8&reviewerType=all_reviews&pageNumber=1\n",
      "https://www.amazon.com/ToLB-Anti-Aging-Serum-Combo/product-reviews/B014PGEEO2/ref=cm_cr_dp_d_show_all_btm?ie=UTF8&reviewerType=all_reviews&pageNumber=2\n",
      "https://www.amazon.com/ToLB-Anti-Aging-Serum-Combo/product-reviews/B014PGEEO2/ref=cm_cr_dp_d_show_all_btm?ie=UTF8&reviewerType=all_reviews&pageNumber=3\n",
      "https://www.amazon.com/ToLB-Anti-Aging-Serum-Combo/product-reviews/B014PGEEO2/ref=cm_cr_dp_d_show_all_btm?ie=UTF8&reviewerType=all_reviews&pageNumber=4\n",
      "https://www.amazon.com/ToLB-Anti-Aging-Serum-Combo/product-reviews/B014PGEEO2/ref=cm_cr_dp_d_show_all_btm?ie=UTF8&reviewerType=all_reviews&pageNumber=5\n",
      "https://www.amazon.com/ToLB-Anti-Aging-Serum-Combo/product-reviews/B014PGEEO2/ref=cm_cr_dp_d_show_all_btm?ie=UTF8&reviewerType=all_reviews&pageNumber=6\n",
      "https://www.amazon.com/ToLB-Anti-Aging-Serum-Combo/product-reviews/B014PGEEO2/ref=cm_cr_dp_d_show_all_btm?ie=UTF8&reviewerType=all_reviews&pageNumber=7\n",
      "https://www.amazon.com/ToLB-Anti-Aging-Serum-Combo/product-reviews/B014PGEEO2/ref=cm_cr_dp_d_show_all_btm?ie=UTF8&reviewerType=all_reviews&pageNumber=8\n",
      "https://www.amazon.com/ToLB-Anti-Aging-Serum-Combo/product-reviews/B014PGEEO2/ref=cm_cr_dp_d_show_all_btm?ie=UTF8&reviewerType=all_reviews&pageNumber=9\n"
     ]
    },
    {
     "name": "stdout",
     "output_type": "stream",
     "text": [
      "https://www.amazon.com/ToLB-Anti-Aging-Serum-Combo/product-reviews/B014PGEEO2/ref=cm_cr_dp_d_show_all_btm?ie=UTF8&reviewerType=all_reviews&pageNumber=0\n",
      "https://www.amazon.com/ToLB-Anti-Aging-Serum-Combo/product-reviews/B014PGEEO2/ref=cm_cr_dp_d_show_all_btm?ie=UTF8&reviewerType=all_reviews&pageNumber=1\n",
      "https://www.amazon.com/ToLB-Anti-Aging-Serum-Combo/product-reviews/B014PGEEO2/ref=cm_cr_dp_d_show_all_btm?ie=UTF8&reviewerType=all_reviews&pageNumber=2\n",
      "https://www.amazon.com/ToLB-Anti-Aging-Serum-Combo/product-reviews/B014PGEEO2/ref=cm_cr_dp_d_show_all_btm?ie=UTF8&reviewerType=all_reviews&pageNumber=3\n",
      "https://www.amazon.com/ToLB-Anti-Aging-Serum-Combo/product-reviews/B014PGEEO2/ref=cm_cr_dp_d_show_all_btm?ie=UTF8&reviewerType=all_reviews&pageNumber=4\n",
      "https://www.amazon.com/ToLB-Anti-Aging-Serum-Combo/product-reviews/B014PGEEO2/ref=cm_cr_dp_d_show_all_btm?ie=UTF8&reviewerType=all_reviews&pageNumber=5\n",
      "https://www.amazon.com/ToLB-Anti-Aging-Serum-Combo/product-reviews/B014PGEEO2/ref=cm_cr_dp_d_show_all_btm?ie=UTF8&reviewerType=all_reviews&pageNumber=6\n",
      "https://www.amazon.com/ToLB-Anti-Aging-Serum-Combo/product-reviews/B014PGEEO2/ref=cm_cr_dp_d_show_all_btm?ie=UTF8&reviewerType=all_reviews&pageNumber=7\n",
      "https://www.amazon.com/ToLB-Anti-Aging-Serum-Combo/product-reviews/B014PGEEO2/ref=cm_cr_dp_d_show_all_btm?ie=UTF8&reviewerType=all_reviews&pageNumber=8\n",
      "https://www.amazon.com/ToLB-Anti-Aging-Serum-Combo/product-reviews/B014PGEEO2/ref=cm_cr_dp_d_show_all_btm?ie=UTF8&reviewerType=all_reviews&pageNumber=9\n",
      "https://www.amazon.com/Eve-Moisturizer-Powerhouse-Tightening-Moisturizing/product-reviews/B071YM4LFG/ref=cm_cr_dp_d_show_all_btm?ie=UTF8&reviewerType=all_reviews&pageNumber=0\n",
      "https://www.amazon.com/Eve-Moisturizer-Powerhouse-Tightening-Moisturizing/product-reviews/B071YM4LFG/ref=cm_cr_dp_d_show_all_btm?ie=UTF8&reviewerType=all_reviews&pageNumber=1\n",
      "https://www.amazon.com/Eve-Moisturizer-Powerhouse-Tightening-Moisturizing/product-reviews/B071YM4LFG/ref=cm_cr_dp_d_show_all_btm?ie=UTF8&reviewerType=all_reviews&pageNumber=2\n",
      "https://www.amazon.com/Eve-Moisturizer-Powerhouse-Tightening-Moisturizing/product-reviews/B071YM4LFG/ref=cm_cr_dp_d_show_all_btm?ie=UTF8&reviewerType=all_reviews&pageNumber=3\n",
      "https://www.amazon.com/Eve-Moisturizer-Powerhouse-Tightening-Moisturizing/product-reviews/B071YM4LFG/ref=cm_cr_dp_d_show_all_btm?ie=UTF8&reviewerType=all_reviews&pageNumber=4\n",
      "https://www.amazon.com/Eve-Moisturizer-Powerhouse-Tightening-Moisturizing/product-reviews/B071YM4LFG/ref=cm_cr_dp_d_show_all_btm?ie=UTF8&reviewerType=all_reviews&pageNumber=5\n",
      "https://www.amazon.com/Eve-Moisturizer-Powerhouse-Tightening-Moisturizing/product-reviews/B071YM4LFG/ref=cm_cr_dp_d_show_all_btm?ie=UTF8&reviewerType=all_reviews&pageNumber=6\n",
      "https://www.amazon.com/Eve-Moisturizer-Powerhouse-Tightening-Moisturizing/product-reviews/B071YM4LFG/ref=cm_cr_dp_d_show_all_btm?ie=UTF8&reviewerType=all_reviews&pageNumber=7\n",
      "https://www.amazon.com/Eve-Moisturizer-Powerhouse-Tightening-Moisturizing/product-reviews/B071YM4LFG/ref=cm_cr_dp_d_show_all_btm?ie=UTF8&reviewerType=all_reviews&pageNumber=8\n",
      "https://www.amazon.com/Eve-Moisturizer-Powerhouse-Tightening-Moisturizing/product-reviews/B071YM4LFG/ref=cm_cr_dp_d_show_all_btm?ie=UTF8&reviewerType=all_reviews&pageNumber=9\n",
      "https://www.amazon.com/LILY-SADO-Vitamin-Serum-Face/product-reviews/B07X37B5V6/ref=cm_cr_dp_d_show_all_btm?ie=UTF8&reviewerType=all_reviews&pageNumber=0\n",
      "https://www.amazon.com/LILY-SADO-Vitamin-Serum-Face/product-reviews/B07X37B5V6/ref=cm_cr_dp_d_show_all_btm?ie=UTF8&reviewerType=all_reviews&pageNumber=1\n",
      "https://www.amazon.com/LILY-SADO-Vitamin-Serum-Face/product-reviews/B07X37B5V6/ref=cm_cr_dp_d_show_all_btm?ie=UTF8&reviewerType=all_reviews&pageNumber=2\n",
      "https://www.amazon.com/LILY-SADO-Vitamin-Serum-Face/product-reviews/B07X37B5V6/ref=cm_cr_dp_d_show_all_btm?ie=UTF8&reviewerType=all_reviews&pageNumber=3\n",
      "https://www.amazon.com/LILY-SADO-Vitamin-Serum-Face/product-reviews/B07X37B5V6/ref=cm_cr_dp_d_show_all_btm?ie=UTF8&reviewerType=all_reviews&pageNumber=4\n",
      "https://www.amazon.com/LILY-SADO-Vitamin-Serum-Face/product-reviews/B07X37B5V6/ref=cm_cr_dp_d_show_all_btm?ie=UTF8&reviewerType=all_reviews&pageNumber=5\n",
      "https://www.amazon.com/LILY-SADO-Vitamin-Serum-Face/product-reviews/B07X37B5V6/ref=cm_cr_dp_d_show_all_btm?ie=UTF8&reviewerType=all_reviews&pageNumber=6\n",
      "https://www.amazon.com/LILY-SADO-Vitamin-Serum-Face/product-reviews/B07X37B5V6/ref=cm_cr_dp_d_show_all_btm?ie=UTF8&reviewerType=all_reviews&pageNumber=7\n",
      "https://www.amazon.com/LILY-SADO-Vitamin-Serum-Face/product-reviews/B07X37B5V6/ref=cm_cr_dp_d_show_all_btm?ie=UTF8&reviewerType=all_reviews&pageNumber=8\n",
      "https://www.amazon.com/LILY-SADO-Vitamin-Serum-Face/product-reviews/B07X37B5V6/ref=cm_cr_dp_d_show_all_btm?ie=UTF8&reviewerType=all_reviews&pageNumber=9\n",
      "https://www.amazon.com/Energize-Vitamin-Serum-Face-Eyes/product-reviews/B07PNFRT7X/ref=cm_cr_dp_d_show_all_btm?ie=UTF8&reviewerType=all_reviews&pageNumber=0\n",
      "https://www.amazon.com/Energize-Vitamin-Serum-Face-Eyes/product-reviews/B07PNFRT7X/ref=cm_cr_dp_d_show_all_btm?ie=UTF8&reviewerType=all_reviews&pageNumber=1\n",
      "https://www.amazon.com/Energize-Vitamin-Serum-Face-Eyes/product-reviews/B07PNFRT7X/ref=cm_cr_dp_d_show_all_btm?ie=UTF8&reviewerType=all_reviews&pageNumber=2\n",
      "https://www.amazon.com/Energize-Vitamin-Serum-Face-Eyes/product-reviews/B07PNFRT7X/ref=cm_cr_dp_d_show_all_btm?ie=UTF8&reviewerType=all_reviews&pageNumber=3\n",
      "https://www.amazon.com/Energize-Vitamin-Serum-Face-Eyes/product-reviews/B07PNFRT7X/ref=cm_cr_dp_d_show_all_btm?ie=UTF8&reviewerType=all_reviews&pageNumber=4\n",
      "https://www.amazon.com/Energize-Vitamin-Serum-Face-Eyes/product-reviews/B07PNFRT7X/ref=cm_cr_dp_d_show_all_btm?ie=UTF8&reviewerType=all_reviews&pageNumber=5\n",
      "https://www.amazon.com/Energize-Vitamin-Serum-Face-Eyes/product-reviews/B07PNFRT7X/ref=cm_cr_dp_d_show_all_btm?ie=UTF8&reviewerType=all_reviews&pageNumber=6\n",
      "https://www.amazon.com/Energize-Vitamin-Serum-Face-Eyes/product-reviews/B07PNFRT7X/ref=cm_cr_dp_d_show_all_btm?ie=UTF8&reviewerType=all_reviews&pageNumber=7\n",
      "https://www.amazon.com/Energize-Vitamin-Serum-Face-Eyes/product-reviews/B07PNFRT7X/ref=cm_cr_dp_d_show_all_btm?ie=UTF8&reviewerType=all_reviews&pageNumber=8\n",
      "https://www.amazon.com/Energize-Vitamin-Serum-Face-Eyes/product-reviews/B07PNFRT7X/ref=cm_cr_dp_d_show_all_btm?ie=UTF8&reviewerType=all_reviews&pageNumber=9\n",
      "https://www.amazon.com/Energize-Vitamin-Serum-Face-Eyes/product-reviews/B07PNFRT7X/ref=cm_cr_dp_d_show_all_btm?ie=UTF8&reviewerType=all_reviews&pageNumber=0\n",
      "https://www.amazon.com/Energize-Vitamin-Serum-Face-Eyes/product-reviews/B07PNFRT7X/ref=cm_cr_dp_d_show_all_btm?ie=UTF8&reviewerType=all_reviews&pageNumber=1\n",
      "https://www.amazon.com/Energize-Vitamin-Serum-Face-Eyes/product-reviews/B07PNFRT7X/ref=cm_cr_dp_d_show_all_btm?ie=UTF8&reviewerType=all_reviews&pageNumber=2\n",
      "https://www.amazon.com/Energize-Vitamin-Serum-Face-Eyes/product-reviews/B07PNFRT7X/ref=cm_cr_dp_d_show_all_btm?ie=UTF8&reviewerType=all_reviews&pageNumber=3\n",
      "https://www.amazon.com/Energize-Vitamin-Serum-Face-Eyes/product-reviews/B07PNFRT7X/ref=cm_cr_dp_d_show_all_btm?ie=UTF8&reviewerType=all_reviews&pageNumber=4\n",
      "https://www.amazon.com/Energize-Vitamin-Serum-Face-Eyes/product-reviews/B07PNFRT7X/ref=cm_cr_dp_d_show_all_btm?ie=UTF8&reviewerType=all_reviews&pageNumber=5\n",
      "https://www.amazon.com/Energize-Vitamin-Serum-Face-Eyes/product-reviews/B07PNFRT7X/ref=cm_cr_dp_d_show_all_btm?ie=UTF8&reviewerType=all_reviews&pageNumber=6\n",
      "https://www.amazon.com/Energize-Vitamin-Serum-Face-Eyes/product-reviews/B07PNFRT7X/ref=cm_cr_dp_d_show_all_btm?ie=UTF8&reviewerType=all_reviews&pageNumber=7\n",
      "https://www.amazon.com/Energize-Vitamin-Serum-Face-Eyes/product-reviews/B07PNFRT7X/ref=cm_cr_dp_d_show_all_btm?ie=UTF8&reviewerType=all_reviews&pageNumber=8\n",
      "https://www.amazon.com/Energize-Vitamin-Serum-Face-Eyes/product-reviews/B07PNFRT7X/ref=cm_cr_dp_d_show_all_btm?ie=UTF8&reviewerType=all_reviews&pageNumber=9\n",
      "https://www.amazon.com/Vichy-Liftactiv-Peptide-C-Moisturizer-1-69/product-reviews/B07GS9XZNS/ref=cm_cr_dp_d_show_all_btm?ie=UTF8&reviewerType=all_reviews&pageNumber=0\n",
      "https://www.amazon.com/Vichy-Liftactiv-Peptide-C-Moisturizer-1-69/product-reviews/B07GS9XZNS/ref=cm_cr_dp_d_show_all_btm?ie=UTF8&reviewerType=all_reviews&pageNumber=1\n"
     ]
    },
    {
     "name": "stdout",
     "output_type": "stream",
     "text": [
      "https://www.amazon.com/Vichy-Liftactiv-Peptide-C-Moisturizer-1-69/product-reviews/B07GS9XZNS/ref=cm_cr_dp_d_show_all_btm?ie=UTF8&reviewerType=all_reviews&pageNumber=2\n",
      "https://www.amazon.com/Vichy-Liftactiv-Peptide-C-Moisturizer-1-69/product-reviews/B07GS9XZNS/ref=cm_cr_dp_d_show_all_btm?ie=UTF8&reviewerType=all_reviews&pageNumber=3\n",
      "https://www.amazon.com/Vichy-Liftactiv-Peptide-C-Moisturizer-1-69/product-reviews/B07GS9XZNS/ref=cm_cr_dp_d_show_all_btm?ie=UTF8&reviewerType=all_reviews&pageNumber=4\n",
      "https://www.amazon.com/Vichy-Liftactiv-Peptide-C-Moisturizer-1-69/product-reviews/B07GS9XZNS/ref=cm_cr_dp_d_show_all_btm?ie=UTF8&reviewerType=all_reviews&pageNumber=5\n",
      "https://www.amazon.com/Vichy-Liftactiv-Peptide-C-Moisturizer-1-69/product-reviews/B07GS9XZNS/ref=cm_cr_dp_d_show_all_btm?ie=UTF8&reviewerType=all_reviews&pageNumber=6\n",
      "https://www.amazon.com/Vichy-Liftactiv-Peptide-C-Moisturizer-1-69/product-reviews/B07GS9XZNS/ref=cm_cr_dp_d_show_all_btm?ie=UTF8&reviewerType=all_reviews&pageNumber=7\n",
      "https://www.amazon.com/Vichy-Liftactiv-Peptide-C-Moisturizer-1-69/product-reviews/B07GS9XZNS/ref=cm_cr_dp_d_show_all_btm?ie=UTF8&reviewerType=all_reviews&pageNumber=8\n",
      "https://www.amazon.com/Vichy-Liftactiv-Peptide-C-Moisturizer-1-69/product-reviews/B07GS9XZNS/ref=cm_cr_dp_d_show_all_btm?ie=UTF8&reviewerType=all_reviews&pageNumber=9\n",
      "https://www.amazon.com/Vichy-Liftactiv-Peptide-C-Moisturizer-1-69/product-reviews/B07GS9XZNS/ref=cm_cr_dp_d_show_all_btm?ie=UTF8&reviewerType=all_reviews&pageNumber=0\n",
      "https://www.amazon.com/Vichy-Liftactiv-Peptide-C-Moisturizer-1-69/product-reviews/B07GS9XZNS/ref=cm_cr_dp_d_show_all_btm?ie=UTF8&reviewerType=all_reviews&pageNumber=1\n",
      "https://www.amazon.com/Vichy-Liftactiv-Peptide-C-Moisturizer-1-69/product-reviews/B07GS9XZNS/ref=cm_cr_dp_d_show_all_btm?ie=UTF8&reviewerType=all_reviews&pageNumber=2\n",
      "https://www.amazon.com/Vichy-Liftactiv-Peptide-C-Moisturizer-1-69/product-reviews/B07GS9XZNS/ref=cm_cr_dp_d_show_all_btm?ie=UTF8&reviewerType=all_reviews&pageNumber=3\n",
      "https://www.amazon.com/Vichy-Liftactiv-Peptide-C-Moisturizer-1-69/product-reviews/B07GS9XZNS/ref=cm_cr_dp_d_show_all_btm?ie=UTF8&reviewerType=all_reviews&pageNumber=4\n",
      "https://www.amazon.com/Vichy-Liftactiv-Peptide-C-Moisturizer-1-69/product-reviews/B07GS9XZNS/ref=cm_cr_dp_d_show_all_btm?ie=UTF8&reviewerType=all_reviews&pageNumber=5\n",
      "https://www.amazon.com/Vichy-Liftactiv-Peptide-C-Moisturizer-1-69/product-reviews/B07GS9XZNS/ref=cm_cr_dp_d_show_all_btm?ie=UTF8&reviewerType=all_reviews&pageNumber=6\n",
      "https://www.amazon.com/Vichy-Liftactiv-Peptide-C-Moisturizer-1-69/product-reviews/B07GS9XZNS/ref=cm_cr_dp_d_show_all_btm?ie=UTF8&reviewerType=all_reviews&pageNumber=7\n",
      "https://www.amazon.com/Vichy-Liftactiv-Peptide-C-Moisturizer-1-69/product-reviews/B07GS9XZNS/ref=cm_cr_dp_d_show_all_btm?ie=UTF8&reviewerType=all_reviews&pageNumber=8\n",
      "https://www.amazon.com/Vichy-Liftactiv-Peptide-C-Moisturizer-1-69/product-reviews/B07GS9XZNS/ref=cm_cr_dp_d_show_all_btm?ie=UTF8&reviewerType=all_reviews&pageNumber=9\n"
     ]
    }
   ],
   "source": [
    "reviews=[]\n",
    "\n",
    "for j in range(len(link)):\n",
    "    for k in range(10): # testing with only 10 pages\n",
    "        \n",
    "        response=Searchreviews(link[j]+'&pageNumber='+str(k))\n",
    "        soup=BeautifulSoup(response.content)\n",
    "        for i in soup.findAll(\"span\", {'data-hook':\"review-body\"}):\n",
    "            reviews.append(i.text)"
   ]
  },
  {
   "cell_type": "code",
   "execution_count": 22,
   "metadata": {},
   "outputs": [
    {
     "data": {
      "text/plain": [
       "1685"
      ]
     },
     "execution_count": 22,
     "metadata": {},
     "output_type": "execute_result"
    }
   ],
   "source": [
    "len(reviews)"
   ]
  },
  {
   "cell_type": "code",
   "execution_count": 23,
   "metadata": {},
   "outputs": [],
   "source": [
    "# creating dict\n",
    "review = {\"reviews\":reviews}"
   ]
  },
  {
   "cell_type": "code",
   "execution_count": 24,
   "metadata": {},
   "outputs": [],
   "source": [
    "review_data=pd.DataFrame.from_dict(review)\n",
    "pd.set_option(\"max_colwidth\", 800)"
   ]
  },
  {
   "cell_type": "code",
   "execution_count": 25,
   "metadata": {},
   "outputs": [
    {
     "data": {
      "text/html": [
       "<div>\n",
       "<style scoped>\n",
       "    .dataframe tbody tr th:only-of-type {\n",
       "        vertical-align: middle;\n",
       "    }\n",
       "\n",
       "    .dataframe tbody tr th {\n",
       "        vertical-align: top;\n",
       "    }\n",
       "\n",
       "    .dataframe thead th {\n",
       "        text-align: right;\n",
       "    }\n",
       "</style>\n",
       "<table border=\"1\" class=\"dataframe\">\n",
       "  <thead>\n",
       "    <tr style=\"text-align: right;\">\n",
       "      <th></th>\n",
       "      <th>reviews</th>\n",
       "    </tr>\n",
       "  </thead>\n",
       "  <tbody>\n",
       "    <tr>\n",
       "      <th>0</th>\n",
       "      <td>\\n\\n  The results are unbelievable, Was a bit skeptical because all the reviews were from Caucasian women. I was slightly worried that my skin would not respond as well but I was quite mistaken.With or without makeup, my skin is bright, smooth and my spots are disappearing.One other result i am sure a number of people have not noticed is that your palms get softer too, i guess the residue on the palms makes it soft and supple.\\n\\n</td>\n",
       "    </tr>\n",
       "    <tr>\n",
       "      <th>1</th>\n",
       "      <td>\\n\\n  I wanted to love this, but unfortunately every time I put it on my face it would dry it out. I even put on moisturizer, but it would dry out my face so bad I would get dry spots on my cheeks and above my eyebrows. At first I was convinced it was due to the cold dry weather, but once I stopped using it took at least a week for my skin to get back to normal. I do not recommend this product.EDIT:Although the product did not work out for me, TruSkin provides wonderful customer service! Erica emailed me right away once she found out the product dried out my skin and offered a refund. She then recommended another product that might be better for my dry skin and is going to ship it to me free of charge. I was truly amazed by the quality of service and hope that the new product will work...</td>\n",
       "    </tr>\n",
       "    <tr>\n",
       "      <th>2</th>\n",
       "      <td>\\n\\n  Hello my fellow amazon-lovers. First I want to say that I never write reviews... but I am just TOO excited to not share my results with you. A little bit of a background first- I am 23 years old, a medical student, with very TIRED, acne-prone, and dull skin. I have struggled with acne throughout my entire adolescent and adult life. I have used many products all over the market--including Proactiv, Proactiv+, birth control, and nearly every drug store product you can think of. Some things will keep my acne at bay, but....the years of heavy chemicals trying to treat my acne has definitely hurt the integrity of my skin. I have had new fine lines, wrinkles, HEAVY bags, and dark circles. I started doing research on skin care and decided to completely re-vamp my beauty routine. If you ...</td>\n",
       "    </tr>\n",
       "    <tr>\n",
       "      <th>3</th>\n",
       "      <td>\\n\\n  This product saved my skin. I did NOT receive this at a discount and this is NOT a sponsored review. I seldom write reviews but just had to review this product. I’ve been struggling with acne for YEARS. I have very acne-prone skin. I get a new pimple almost every day and it seemed like there was never a time I didn’t have a pimple on my face. Acne leaves super dark blemishes/scars on my face. I do believe my acne is partly genetic - another reason may be stress from college and not getting enough sleep. I’ve tried all different types of moisturizers and cleansers. Nothing worked. However I bought this serum on a whim. Omgggg. Guys. Literally my face stopped flaring within 3 days. I was PIMPLE FREE FOR MORE THAN 48 hours (a new record). In the photo, the left side was day 1 of app...</td>\n",
       "    </tr>\n",
       "    <tr>\n",
       "      <th>4</th>\n",
       "      <td>\\n\\n  I will post more pics when I notice a more significant change. I wanted to address the myth I've seen blasted all over the reviews posted here.I have heard for a long time that vitamin c and retinol cannot be used together. That they cancel each other out. It's completely untrue. My problem is that I've heard it so many times. I believed it to be fact regardless of the sources I heard it from. Which is basically word of mouth by other women who do not hold a dermatological degree of any sort. I did my own research. And actual skin care experts that hold a degree say the opposite. Retinol CAN be used with vitamin c products. Successfully. They don't cancel each other out. They work beautifully together. And vitamin c actually helps retinol work BETTER by stabilizing it and extendi...</td>\n",
       "    </tr>\n",
       "  </tbody>\n",
       "</table>\n",
       "</div>"
      ],
      "text/plain": [
       "                                                                                                                                                                                                                                                                                                                                                                                                                                                                                                                                                                                                                                                                                                                                                                                                                           reviews\n",
       "0                                                                                                                                                                                                                                                                                                                                                                               \\n\\n  The results are unbelievable, Was a bit skeptical because all the reviews were from Caucasian women. I was slightly worried that my skin would not respond as well but I was quite mistaken.With or without makeup, my skin is bright, smooth and my spots are disappearing.One other result i am sure a number of people have not noticed is that your palms get softer too, i guess the residue on the palms makes it soft and supple.\\n\\n\n",
       "1  \\n\\n  I wanted to love this, but unfortunately every time I put it on my face it would dry it out. I even put on moisturizer, but it would dry out my face so bad I would get dry spots on my cheeks and above my eyebrows. At first I was convinced it was due to the cold dry weather, but once I stopped using it took at least a week for my skin to get back to normal. I do not recommend this product.EDIT:Although the product did not work out for me, TruSkin provides wonderful customer service! Erica emailed me right away once she found out the product dried out my skin and offered a refund. She then recommended another product that might be better for my dry skin and is going to ship it to me free of charge. I was truly amazed by the quality of service and hope that the new product will work...\n",
       "2  \\n\\n  Hello my fellow amazon-lovers. First I want to say that I never write reviews... but I am just TOO excited to not share my results with you. A little bit of a background first- I am 23 years old, a medical student, with very TIRED, acne-prone, and dull skin. I have struggled with acne throughout my entire adolescent and adult life. I have used many products all over the market--including Proactiv, Proactiv+, birth control, and nearly every drug store product you can think of. Some things will keep my acne at bay, but....the years of heavy chemicals trying to treat my acne has definitely hurt the integrity of my skin. I have had new fine lines, wrinkles, HEAVY bags, and dark circles. I started doing research on skin care and decided to completely re-vamp my beauty routine. If you ...\n",
       "3  \\n\\n  This product saved my skin. I did NOT receive this at a discount and this is NOT a sponsored review. I seldom write reviews but just had to review this product. I’ve been struggling with acne for YEARS. I have very acne-prone skin. I get a new pimple almost every day and it seemed like there was never a time I didn’t have a pimple on my face. Acne leaves super dark blemishes/scars on my face. I do believe my acne is partly genetic - another reason may be stress from college and not getting enough sleep. I’ve tried all different types of moisturizers and cleansers. Nothing worked. However I bought this serum on a whim. Omgggg. Guys. Literally my face stopped flaring within 3 days. I was PIMPLE FREE FOR MORE THAN 48 hours (a new record). In the photo, the left side was day 1 of app...\n",
       "4  \\n\\n  I will post more pics when I notice a more significant change. I wanted to address the myth I've seen blasted all over the reviews posted here.I have heard for a long time that vitamin c and retinol cannot be used together. That they cancel each other out. It's completely untrue. My problem is that I've heard it so many times. I believed it to be fact regardless of the sources I heard it from. Which is basically word of mouth by other women who do not hold a dermatological degree of any sort. I did my own research. And actual skin care experts that hold a degree say the opposite. Retinol CAN be used with vitamin c products. Successfully. They don't cancel each other out. They work beautifully together. And vitamin c actually helps retinol work BETTER by stabilizing it and extendi..."
      ]
     },
     "execution_count": 25,
     "metadata": {},
     "output_type": "execute_result"
    }
   ],
   "source": [
    "review_data.head(5)"
   ]
  },
  {
   "cell_type": "code",
   "execution_count": 26,
   "metadata": {},
   "outputs": [
    {
     "data": {
      "text/plain": [
       "(1685, 1)"
      ]
     },
     "execution_count": 26,
     "metadata": {},
     "output_type": "execute_result"
    }
   ],
   "source": [
    "review_data.shape"
   ]
  }
 ],
 "metadata": {
  "kernelspec": {
   "display_name": "Python [conda env:metis] *",
   "language": "python",
   "name": "conda-env-metis-py"
  },
  "language_info": {
   "codemirror_mode": {
    "name": "ipython",
    "version": 3
   },
   "file_extension": ".py",
   "mimetype": "text/x-python",
   "name": "python",
   "nbconvert_exporter": "python",
   "pygments_lexer": "ipython3",
   "version": "3.8.5"
  }
 },
 "nbformat": 4,
 "nbformat_minor": 4
}
